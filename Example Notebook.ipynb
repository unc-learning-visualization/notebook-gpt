{
 "cells": [
  {
   "cell_type": "markdown",
   "id": "62415950-0424-4e98-ade3-30517c06777e",
   "metadata": {},
   "source": [
    "# Import Package"
   ]
  },
  {
   "cell_type": "code",
   "execution_count": null,
   "id": "5bef875f-2968-4697-8773-2c464824bb5b",
   "metadata": {},
   "outputs": [],
   "source": [
    "# For Testing Uploaded Package\n",
    "#from notebook_gpt_plugin import GPTPlugin\n",
    "\n",
    "# For Local Testing\n",
    "from src.notebook_gpt_plugin import GPTPlugin"
   ]
  },
  {
   "cell_type": "markdown",
   "id": "901db695-1ce3-4d88-a3a7-0d87950179ff",
   "metadata": {},
   "source": [
    "# Load Plugin"
   ]
  },
  {
   "cell_type": "markdown",
   "id": "2976d8ba-e436-4d70-a07c-af8a04c1e431",
   "metadata": {},
   "source": [
    "## Specify User and Course "
   ]
  },
  {
   "cell_type": "code",
   "execution_count": null,
   "id": "f18a79f4-dacc-45c7-9712-f5d122b1b891",
   "metadata": {},
   "outputs": [],
   "source": [
    "user_id = \"TestId\"\n",
    "course_id = \"TestCourse\"\n",
    "problem = \"Write a method that count the words in a string.\"\n",
    "GPTPlugin(user_id, course_id, problem)"
   ]
  },
  {
   "cell_type": "markdown",
   "id": "a1551eb6-8ed2-427e-b1e3-2b730a7d0854",
   "metadata": {},
   "source": [
    "## Can Run with Defaults"
   ]
  },
  {
   "cell_type": "code",
   "execution_count": null,
   "id": "bab80bc9-c656-4950-853c-58e2983fc6e4",
   "metadata": {},
   "outputs": [],
   "source": [
    "#GPTPlugin()"
   ]
  },
  {
   "cell_type": "code",
   "execution_count": null,
   "id": "c8a75805-46a4-4ce9-9517-1b6c0f7339a8",
   "metadata": {},
   "outputs": [],
   "source": []
  }
 ],
 "metadata": {
  "kernelspec": {
   "display_name": "Python 3 (ipykernel)",
   "language": "python",
   "name": "python3"
  },
  "language_info": {
   "codemirror_mode": {
    "name": "ipython",
    "version": 3
   },
   "file_extension": ".py",
   "mimetype": "text/x-python",
   "name": "python",
   "nbconvert_exporter": "python",
   "pygments_lexer": "ipython3",
   "version": "3.11.5"
  }
 },
 "nbformat": 4,
 "nbformat_minor": 5
}
