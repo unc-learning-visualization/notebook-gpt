{
 "cells": [
  {
   "cell_type": "markdown",
   "id": "62415950-0424-4e98-ade3-30517c06777e",
   "metadata": {},
   "source": [
    "# Import Package"
   ]
  },
  {
   "cell_type": "code",
   "execution_count": 1,
   "id": "5bef875f-2968-4697-8773-2c464824bb5b",
   "metadata": {},
   "outputs": [],
   "source": [
    "from NotebookGPT import GPTPlugin"
   ]
  },
  {
   "cell_type": "markdown",
   "id": "901db695-1ce3-4d88-a3a7-0d87950179ff",
   "metadata": {},
   "source": [
    "# Load Plugin"
   ]
  },
  {
   "cell_type": "markdown",
   "id": "2976d8ba-e436-4d70-a07c-af8a04c1e431",
   "metadata": {},
   "source": [
    "## Specify User and Course "
   ]
  },
  {
   "cell_type": "code",
   "execution_count": 2,
   "id": "f18a79f4-dacc-45c7-9712-f5d122b1b891",
   "metadata": {},
   "outputs": [
    {
     "name": "stdout",
     "output_type": "stream",
     "text": [
      "['Code: \\n#GPTPlugin()\\ntest\\n']\n"
     ]
    }
   ],
   "source": [
    "user_id = \"TestId\"\n",
    "course_id = \"TestCourse\"\n",
    "GPTPlugin(user_id,course_id)"
   ]
  },
  {
   "cell_type": "markdown",
   "id": "a1551eb6-8ed2-427e-b1e3-2b730a7d0854",
   "metadata": {},
   "source": [
    "## Can Run with Defaults"
   ]
  },
  {
   "cell_type": "code",
   "execution_count": 3,
   "id": "db7ed801-2fd9-427d-813e-c3545f356cf4",
   "metadata": {},
   "outputs": [
    {
     "ename": "NameError",
     "evalue": "name 'test' is not defined",
     "output_type": "error",
     "traceback": [
      "\u001b[0;31m---------------------------------------------------------------------------\u001b[0m",
      "\u001b[0;31mNameError\u001b[0m                                 Traceback (most recent call last)",
      "Cell \u001b[0;32mIn[3], line 2\u001b[0m\n\u001b[1;32m      1\u001b[0m \u001b[38;5;66;03m#GPTPlugin()\u001b[39;00m\n\u001b[0;32m----> 2\u001b[0m \u001b[43mtest\u001b[49m\n",
      "\u001b[0;31mNameError\u001b[0m: name 'test' is not defined"
     ]
    }
   ],
   "source": [
    "#GPTPlugin()\n",
    "test\n"
   ]
  },
  {
   "cell_type": "code",
   "execution_count": null,
   "id": "2c66fc2e-ac95-468f-9e0e-b6e55cf6c93b",
   "metadata": {},
   "outputs": [],
   "source": []
  }
 ],
 "metadata": {
  "kernelspec": {
   "display_name": "Python 3 (ipykernel)",
   "language": "python",
   "name": "python3"
  },
  "language_info": {
   "codemirror_mode": {
    "name": "ipython",
    "version": 3
   },
   "file_extension": ".py",
   "mimetype": "text/x-python",
   "name": "python",
   "nbconvert_exporter": "python",
   "pygments_lexer": "ipython3",
   "version": "3.11.5"
  }
 },
 "nbformat": 4,
 "nbformat_minor": 5
}
