{
 "cells": [
  {
   "cell_type": "markdown",
   "id": "6d782997-725c-41fe-a591-62ba8dea2577",
   "metadata": {},
   "source": [
    "# Import Packages"
   ]
  },
  {
   "cell_type": "code",
   "execution_count": null,
   "id": "68af8dfb-bd30-4d44-b53b-628865194e55",
   "metadata": {},
   "outputs": [],
   "source": [
    "import json "
   ]
  },
  {
   "cell_type": "markdown",
   "id": "1eb26615-cf09-42f6-a090-72cd7c39165b",
   "metadata": {},
   "source": [
    "# Define Examples"
   ]
  },
  {
   "cell_type": "code",
   "execution_count": null,
   "id": "81f78174-0e0b-4a66-a29f-550a3c79c116",
   "metadata": {},
   "outputs": [],
   "source": [
    "sample_history = [\"Timestamp: 2023-12-05 17:01:13.711822\\nCode: \\n#GPTPlugin()\\nerror \\n\\nError Output:\\nError Name: NameError\\nTraceback:\\n\\x1b[0;31m---------------------------------------------------------------------------\\x1b[0m\\x1b[0;31mNameError\\x1b[0m                                 Traceback (most recent call last)Cell \\x1b[0;32mIn[6], line 2\\x1b[0m\\n\\x1b[1;32m      1\\x1b[0m \\x1b[38;5;66;03m#GPTPlugin()\\x1b[39;00m\\n\\x1b[0;32m----> 2\\x1b[0m \\x1b[43merror\\x1b[49m \\n\\x1b[0;31mNameError\\x1b[0m: name 'error' is not defined\\n\",\n",
    " 'Timestamp: 2023-12-05 17:01:11.436696\\nCode: \\n#GPTPlugin()\\nerror \\n',\n",
    " 'Timestamp: 2023-12-05 17:01:02.140220\\nCode: \\n#GPTPlugin()\\nhelp\\n',\n",
    " 'Timestamp: 2023-12-05 17:00:01.689110\\nCode: \\n#GPTPlugin()\\nprint(\"Item\")\\n\\nStandard Output:\\nItem\\n\\n',\n",
    " 'Timestamp: 2023-12-05 16:59:58.414190\\nCode: \\n#GPTPlugin()\\nprint(\"Item\")\\n\\n\\nStandard Output:\\nItem\\n\\n']"
   ]
  },
  {
   "cell_type": "code",
   "execution_count": null,
   "id": "cc9b7d6b-3f28-4774-b18a-50b909676351",
   "metadata": {},
   "outputs": [],
   "source": [
    "sample_problem = \"Write a python method that counts the number of words in a string.\""
   ]
  },
  {
   "cell_type": "code",
   "execution_count": null,
   "id": "e82b4466-9a90-41ab-be62-01d03e985915",
   "metadata": {},
   "outputs": [],
   "source": [
    "sample_open_question = \"Can you write me a method to count the number of words in a string.\""
   ]
  },
  {
   "cell_type": "markdown",
   "id": "b59d3572-cce3-4eb4-aa3e-49a1a3a7dc24",
   "metadata": {},
   "source": [
    "# Develop GPT API"
   ]
  },
  {
   "cell_type": "markdown",
   "id": "824e1359-234a-4816-9b05-e24f3d94cf25",
   "metadata": {},
   "source": [
    "## API Class"
   ]
  },
  {
   "cell_type": "code",
   "execution_count": null,
   "id": "84e1da72-612d-4fd7-a7a6-98f7ee2119e3",
   "metadata": {},
   "outputs": [],
   "source": [
    "import requests\n",
    "import json\n",
    "import os\n",
    "from dotenv import load_dotenv\n",
    "\n",
    "class GPTAPI():\n",
    "\n",
    "    @staticmethod\n",
    "    def handleChoice(choice_object) -> str:\n",
    "        to_return = \"\"\n",
    "        \n",
    "        if 'message' not in choice_object:\n",
    "            return \"No ChatGPT message returned.\"\n",
    "        message_object = choice_object['message']\n",
    "\n",
    "        if 'content' not in message_object:\n",
    "            return \"No ChatGPT message returned.\"\n",
    "\n",
    "        raw_return = message_object['content']\n",
    "        raw_code_array = raw_return.split(\"```\")\n",
    "\n",
    "        val = 0\n",
    "        return_array = []\n",
    "        for section in raw_code_array:\n",
    "            if val % 2 != 0:\n",
    "                return_array.append(\"<CODE REDACTED>\") \n",
    "                val += 1\n",
    "                continue \n",
    "            return_array.append(section)\n",
    "            val += 1\n",
    "            \n",
    "        return \"\".join(return_array)\n",
    "\n",
    "    @staticmethod\n",
    "    def sendToGPT(text: str):\n",
    "        load_dotenv()\n",
    "        \n",
    "        url = \"https://us-east-1.aws.data.mongodb-api.com/app/rest-api-vsfoo/endpoint/gpt_request?secret=\" + os.getenv(\"API_SECRET\")\n",
    "\n",
    "        payload = json.dumps({\n",
    "          \"text\": text\n",
    "        })\n",
    "        headers = {\n",
    "          'Content-Type': 'application/json'\n",
    "        }\n",
    "        \n",
    "        response = requests.request(\"POST\", url, headers=headers, data=payload)\n",
    "        if response.status_code != 200:\n",
    "            return \"Error contacting ChatGPT service\"\n",
    "\n",
    "        parse = response.json()\n",
    "\n",
    "        if 'choices' in parse and len(parse['choices']) != 1: \n",
    "            return \"Chat does not currently support choices. Please ask a question that will likely give a single answer.\"\n",
    "\n",
    "        return GPTAPI.handleChoice(parse['choices'][0])\n",
    "    \n",
    "    @staticmethod\n",
    "    def generateHistoryPrompt(history: [str], problem: str) -> str:\n",
    "        if problem == \"\":\n",
    "            return \"help\"\n",
    "        \n",
    "        return \"history\"\n",
    "    \n",
    "    @staticmethod\n",
    "    def generateProblemPrompt(problem: str) -> str: \n",
    "        if problem == \"\":\n",
    "            return \"\"\"Imagine you are a tutor for a programming class and the student comes to you for help. You should not give them code\n",
    "            in your responses and instead, you should guide them to an answer or help them in natural language. They ask the following question:\"\"\"\n",
    "            \n",
    "        \n",
    "        return \"\"\"Imagine you are a tutor for a programming class and the student comes to you for help. You should not give them code\n",
    "            in your responses and instead, you should guide them to an answer or help them in natural language. They are working on a \n",
    "            problem with the description: \"\"\" + problem + \"\"\" \\n Given that background information, how would you help the student answer the \n",
    "            following question: \"\"\""
   ]
  },
  {
   "cell_type": "markdown",
   "id": "13a1a877-eb3c-440e-9dc3-26a043cde9e9",
   "metadata": {},
   "source": [
    "## Test Methods - Creating Prompts"
   ]
  },
  {
   "cell_type": "code",
   "execution_count": null,
   "id": "0b696c60-5f2a-4d0c-9a79-c62ca36ae1d1",
   "metadata": {},
   "outputs": [],
   "source": [
    "to_send = GPTAPI.generateHistoryPrompt(sample_history, sample_problem)\n",
    "print(to_send)"
   ]
  },
  {
   "cell_type": "code",
   "execution_count": null,
   "id": "6f2eee60-ef19-47b7-82c1-52d3ca691837",
   "metadata": {},
   "outputs": [],
   "source": [
    "to_send = GPTAPI.generateProblemPrompt(sample_problem)\n",
    "print(to_send)"
   ]
  },
  {
   "cell_type": "markdown",
   "id": "ba331e11-0d3e-474f-942c-dcb56d1facac",
   "metadata": {},
   "source": [
    "## Test Methods - Calling GPT"
   ]
  },
  {
   "cell_type": "code",
   "execution_count": null,
   "id": "a30fd9f9-1e71-416c-8a1a-aa5c1e9da533",
   "metadata": {},
   "outputs": [],
   "source": [
    "response = GPTAPI.sendToGPT(to_send)\n",
    "print(response)"
   ]
  },
  {
   "cell_type": "code",
   "execution_count": null,
   "id": "2b8eca51-7c8c-45eb-a6b6-745bc9d46201",
   "metadata": {},
   "outputs": [],
   "source": []
  }
 ],
 "metadata": {
  "kernelspec": {
   "display_name": "Python 3 (ipykernel)",
   "language": "python",
   "name": "python3"
  },
  "language_info": {
   "codemirror_mode": {
    "name": "ipython",
    "version": 3
   },
   "file_extension": ".py",
   "mimetype": "text/x-python",
   "name": "python",
   "nbconvert_exporter": "python",
   "pygments_lexer": "ipython3",
   "version": "3.11.5"
  }
 },
 "nbformat": 4,
 "nbformat_minor": 5
}
