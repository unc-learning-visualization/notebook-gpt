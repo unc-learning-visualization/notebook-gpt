{
 "cells": [
  {
   "cell_type": "markdown",
   "id": "6d782997-725c-41fe-a591-62ba8dea2577",
   "metadata": {},
   "source": [
    "# Import Packages"
   ]
  },
  {
   "cell_type": "code",
   "execution_count": null,
   "id": "68af8dfb-bd30-4d44-b53b-628865194e55",
   "metadata": {},
   "outputs": [],
   "source": [
    "import json "
   ]
  },
  {
   "cell_type": "markdown",
   "id": "1eb26615-cf09-42f6-a090-72cd7c39165b",
   "metadata": {},
   "source": [
    "# Define Examples"
   ]
  },
  {
   "cell_type": "code",
   "execution_count": null,
   "id": "81f78174-0e0b-4a66-a29f-550a3c79c116",
   "metadata": {},
   "outputs": [],
   "source": [
    "sample_history = [\n",
    "            \"Timestamp: 2023-12-11 14:33:48.025922\\nCode: \\n```\\ndef word_count(input):\\n    i = 0\\n    num_words = input.split()\\n    \\n    for i in num_words:\\n        i+=1\\n    return i\\n```\\n\",\n",
    "            \"Timestamp: 2023-12-11 14:24:06.486611\\nCode: \\n```\\ndef word_count(input):\\n    i = 0\\n    num_words = input.split()\\n    \\n    for i in num_words:\\n        i+=1\\n    return i\\n```\\n\",\n",
    "            \"Timestamp: 2023-12-11 14:24:03.217991\\nCode: \\n```\\ndef word_count(input):\\n    i = 0\\n    num_words = input.split()\\n    \\n    for i in num_words:\\n        i+=1\\n    return i\\n```\\n\",\n",
    "            \"Timestamp: 2023-12-11 14:19:56.452045\\nCode: \\n```\\ndef word_count(input):\\n    i = 0\\n    num_words = input.split()\\n    \\n    for i in num_words:\\n        i+=1\\n    return i\\n```\\n\",\n",
    "            \"Timestamp: 2023-12-11 14:19:55.190491\\nCode: \\n```\\ndef word_count(input):\\n    i = 0\\n    num_words = input.split()\\n    \\n    for i in num_words:\\n        i+=1\\n    return i\\n```\\n\"\n",
    "          ]"
   ]
  },
  {
   "cell_type": "code",
   "execution_count": null,
   "id": "cc9b7d6b-3f28-4774-b18a-50b909676351",
   "metadata": {},
   "outputs": [],
   "source": [
    "sample_problem = \"Write a python method that counts the number of words in a string.\""
   ]
  },
  {
   "cell_type": "markdown",
   "id": "b59d3572-cce3-4eb4-aa3e-49a1a3a7dc24",
   "metadata": {},
   "source": [
    "# Develop GPT API"
   ]
  },
  {
   "cell_type": "markdown",
   "id": "824e1359-234a-4816-9b05-e24f3d94cf25",
   "metadata": {},
   "source": [
    "## API Class"
   ]
  },
  {
   "cell_type": "code",
   "execution_count": null,
   "id": "84e1da72-612d-4fd7-a7a6-98f7ee2119e3",
   "metadata": {},
   "outputs": [],
   "source": [
    "\n",
    "\n",
    "import requests\n",
    "import json\n",
    "import os\n",
    "import re\n",
    "from dotenv import load_dotenv\n",
    "\n",
    "class GPTAPI():\n",
    "\n",
    "    @staticmethod\n",
    "    def handleChoice(choice_object) -> str:\n",
    "        to_return = \"\"\n",
    "        \n",
    "        if 'message' not in choice_object:\n",
    "            return \"No ChatGPT message returned.\"\n",
    "        message_object = choice_object['message']\n",
    "\n",
    "        if 'content' not in message_object:\n",
    "            return \"No ChatGPT message returned.\"\n",
    "\n",
    "        raw_return = message_object['content']\n",
    "        raw_code_array = raw_return.split(\"```\")\n",
    "\n",
    "        val = 0\n",
    "        return_array = []\n",
    "        for section in raw_code_array:\n",
    "            if val % 2 != 0:\n",
    "                return_array.append(\"<CODE REDACTED>\") \n",
    "                val += 1\n",
    "                continue \n",
    "            return_array.append(section)\n",
    "            val += 1\n",
    "            \n",
    "        return \"\".join(return_array)\n",
    "\n",
    "    @staticmethod\n",
    "    def cleanText(text: str):\n",
    "        to_return = re.sub(r\"\\n[\\t' ']*\\n\", \"\\n\", text)\n",
    "        if to_return[-1] == \"\\n\":\n",
    "            to_return = to_return[:-1]\n",
    "        return to_return\n",
    "            \n",
    "\n",
    "    @staticmethod\n",
    "    def sendToGPT(text: str):\n",
    "        load_dotenv()\n",
    "        \n",
    "        url = \"https://us-east-1.aws.data.mongodb-api.com/app/rest-api-vsfoo/endpoint/gpt_request?secret=\" + os.getenv(\"API_SECRET\")\n",
    "\n",
    "        text = GPTAPI.cleanText(text)\n",
    "        payload = json.dumps({\n",
    "          \"text\": text\n",
    "        })\n",
    "        headers = {\n",
    "          'Content-Type': 'application/json'\n",
    "        }\n",
    "        \n",
    "        response = requests.request(\"POST\", url, headers=headers, data=payload)\n",
    "        if response.status_code != 200:\n",
    "            return response.json()['message'], text\n",
    "\n",
    "        parse = response.json()\n",
    "\n",
    "        if 'choices' in parse and len(parse['choices']) != 1: \n",
    "            return \"Chat does not currently support choices. Please ask a question that will likely give a single answer.\"\n",
    "\n",
    "        return GPTAPI.handleChoice(parse['choices'][0]), text\n",
    "    \n",
    "    @staticmethod\n",
    "    def generateHistoryPrompt(history: [str], problem: str) -> str:\n",
    "        base = GPTAPI.generateProblemPrompt(problem)\n",
    "        base += \"I am stuck on my code and would like advice on how to solve my problem.\\n\"\n",
    "        base += \"I am going to send you a history of my recent code with the following format:\\n\"\n",
    "        base += \"Timestamp: <Timestamp>\\n\"\n",
    "        base += \"Code:\\n <The Code At That Timestamp>\\n\"\n",
    "        base += \"Standard Output:\\n <The codes standard output>\\n\"\n",
    "        base += \"Error Output:\\n Error Name: <Name of the error in the programming language>\\n\"\n",
    "        base += \"<The error output of the code>\\n\"\n",
    "        base += \"This pattern will repeat for some number of timepoints. Some sections may be missing.\\n\"\n",
    "        base += \"What advice would you give based on the following history:\\n\"\n",
    "        for i in history:\n",
    "            base += i\n",
    "        return base\n",
    "    \n",
    "    @staticmethod\n",
    "    def generateSinglePrompt(code_time: str, problem: str) -> str:\n",
    "        base = GPTAPI.generateProblemPrompt(problem)\n",
    "        base += \"I am stuck on my code and would like advice on how to solve my problem.\\n\"\n",
    "        base += \"I am going to send you my current code with the following format:\\n\"\n",
    "        base += \"Timestamp: <Timestamp>\\n\"\n",
    "        base += \"Code:\\n <The Code At That Timestamp>\\n\"\n",
    "        base += \"Standard Output:\\n <The codes standard output>\\n\"\n",
    "        base += \"Error Output:\\n Error Name: <Name of the error in the programming language>\\n\"\n",
    "        base += \"<The error output of the code>\\n\"\n",
    "        base += \"Some sections may be missing.\\n\"\n",
    "        base += \"What advice would you give based on the code:\\n\"\n",
    "        base += code_time\n",
    "        return base\n",
    "    \n",
    "    @staticmethod\n",
    "    def generateProblemPrompt(problem: str) -> str: \n",
    "        resp = \"Imagine you are a tutor for a programming class and the student comes to you for help.\\n\"\n",
    "        resp += \"You should not give them code in your responses and instead, you should guide them to an answer or help them in natural language.\\n\"\n",
    "        if problem != \"\":\n",
    "            resp += \"In addition, they are working on a problem with the prompt: \" + problem + \"\\n\"\n",
    "        \n",
    "        \n",
    "        resp += \"The student then asks the following question:\\n\"\n",
    "        \n",
    "        return resp"
   ]
  },
  {
   "cell_type": "markdown",
   "id": "13a1a877-eb3c-440e-9dc3-26a043cde9e9",
   "metadata": {},
   "source": [
    "## Test Methods - Creating Prompts"
   ]
  },
  {
   "cell_type": "code",
   "execution_count": null,
   "id": "37a3f585-25c1-4471-837c-4dec0f3db3d3",
   "metadata": {},
   "outputs": [],
   "source": [
    "to_send_code = GPTAPI.generateSinglePrompt(sample_history[0], sample_problem)\n",
    "print(to_send_code)"
   ]
  },
  {
   "cell_type": "code",
   "execution_count": null,
   "id": "0b696c60-5f2a-4d0c-9a79-c62ca36ae1d1",
   "metadata": {},
   "outputs": [],
   "source": [
    "to_send_history = GPTAPI.generateHistoryPrompt(sample_history, sample_problem)\n",
    "print(to_send_history)"
   ]
  },
  {
   "cell_type": "code",
   "execution_count": null,
   "id": "6f2eee60-ef19-47b7-82c1-52d3ca691837",
   "metadata": {},
   "outputs": [],
   "source": [
    "to_send_problem = GPTAPI.generateProblemPrompt(sample_problem)\n",
    "print(to_send_problem)"
   ]
  },
  {
   "cell_type": "code",
   "execution_count": null,
   "id": "71ba8251-4f2c-463e-8a4c-632f4679329e",
   "metadata": {},
   "outputs": [],
   "source": [
    "to_send = GPTAPI.cleanText(to_send_history)\n",
    "print(to_send)"
   ]
  },
  {
   "cell_type": "markdown",
   "id": "ba331e11-0d3e-474f-942c-dcb56d1facac",
   "metadata": {},
   "source": [
    "## Test Methods - Calling GPT"
   ]
  },
  {
   "cell_type": "code",
   "execution_count": null,
   "id": "a30fd9f9-1e71-416c-8a1a-aa5c1e9da533",
   "metadata": {},
   "outputs": [],
   "source": [
    "response, sent = GPTAPI.sendToGPT(to_send)\n",
    "print(response)"
   ]
  },
  {
   "cell_type": "code",
   "execution_count": null,
   "id": "07c1266a-81ab-4751-92a2-d140d8a921a8",
   "metadata": {},
   "outputs": [],
   "source": []
  }
 ],
 "metadata": {
  "kernelspec": {
   "display_name": "Python 3 (ipykernel)",
   "language": "python",
   "name": "python3"
  },
  "language_info": {
   "codemirror_mode": {
    "name": "ipython",
    "version": 3
   },
   "file_extension": ".py",
   "mimetype": "text/x-python",
   "name": "python",
   "nbconvert_exporter": "python",
   "pygments_lexer": "ipython3",
   "version": "3.11.5"
  }
 },
 "nbformat": 4,
 "nbformat_minor": 5
}
